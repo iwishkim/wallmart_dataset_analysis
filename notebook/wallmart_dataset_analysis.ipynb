{
  "nbformat": 4,
  "nbformat_minor": 0,
  "metadata": {
    "colab": {
      "private_outputs": true,
      "provenance": [],
      "authorship_tag": "ABX9TyO9JGxTe61SPE60VR1YI3pl",
      "include_colab_link": true
    },
    "kernelspec": {
      "name": "python3",
      "display_name": "Python 3"
    },
    "language_info": {
      "name": "python"
    }
  },
  "cells": [
    {
      "cell_type": "markdown",
      "metadata": {
        "id": "view-in-github",
        "colab_type": "text"
      },
      "source": [
        "<a href=\"https://colab.research.google.com/github/iwishkim/wallmart_dataset_analysis/blob/main/notebook/wallmart_dataset_analysis.ipynb\" target=\"_parent\"><img src=\"https://colab.research.google.com/assets/colab-badge.svg\" alt=\"Open In Colab\"/></a>"
      ]
    },
    {
      "cell_type": "markdown",
      "source": [
        "# kaggle폴더 생성 및 파일 이동"
      ],
      "metadata": {
        "id": "3Lc2sHTW6TKW"
      }
    },
    {
      "cell_type": "code",
      "execution_count": null,
      "metadata": {
        "id": "zXegOm6yzq5d"
      },
      "outputs": [],
      "source": [
        "!ls -lha kaggle.json\n",
        "!pip install -q kaggle # installing the kaggle package\n",
        "!mkdir -p ~/.kaggle # creating .kaggle folder where the key should be placed\n",
        "!cp kaggle.json ~/.kaggle/ # move the key to the folder\n",
        "!pwd # checking the present working directory"
      ]
    },
    {
      "cell_type": "markdown",
      "source": [
        "# 권한설정"
      ],
      "metadata": {
        "id": "TSdbCKcW6v7D"
      }
    },
    {
      "cell_type": "code",
      "source": [
        "!chmod 600 ~/.kaggle/kaggle.json"
      ],
      "metadata": {
        "id": "PhgZYs846sZc"
      },
      "execution_count": null,
      "outputs": []
    },
    {
      "cell_type": "markdown",
      "source": [
        "## 데이터셋 다운로드"
      ],
      "metadata": {
        "id": "VPcZDlPA7UOk"
      }
    },
    {
      "cell_type": "code",
      "source": [
        "!kaggle datasets download -d devarajv88/walmart-sales-dataset"
      ],
      "metadata": {
        "id": "SqlG7B1q7o7X"
      },
      "execution_count": null,
      "outputs": []
    },
    {
      "cell_type": "markdown",
      "source": [
        "데이터셋 압축 해제"
      ],
      "metadata": {
        "id": "KQwoMUhm75gb"
      }
    },
    {
      "cell_type": "code",
      "source": [
        "import zipfile\n",
        "with zipfile.ZipFile('walmart-sales-dataset.zip', 'r') as zip_ref:\n",
        "    zip_ref.extractall('data')"
      ],
      "metadata": {
        "id": "d2T_E1JZ8Li8"
      },
      "execution_count": null,
      "outputs": []
    },
    {
      "cell_type": "markdown",
      "source": [
        "데이터 불러오기"
      ],
      "metadata": {
        "id": "RHDpLhwU8X3m"
      }
    },
    {
      "cell_type": "code",
      "source": [
        "import pandas as pd\n",
        "\n",
        "# 데이터셋 로드\n",
        "df = pd.read_csv('data/walmart.csv')\n",
        "df.info()"
      ],
      "metadata": {
        "id": "upg1296V8ktz"
      },
      "execution_count": null,
      "outputs": []
    },
    {
      "cell_type": "code",
      "source": [
        "df.head()"
      ],
      "metadata": {
        "id": "7dBI1d0b9YSU"
      },
      "execution_count": null,
      "outputs": []
    },
    {
      "cell_type": "markdown",
      "source": [
        "# EDA\n",
        "- 구매금액과 사용자 성별간의 관계\n",
        "- 구매금액과 결혼상태간의 관계\n",
        "- 성별 고객분류\n",
        "- 연령별 고객분류\n",
        "- 구매금액별 고객분류\n",
        "- 도시별 고객분류\n",
        "- 고객수"
      ],
      "metadata": {
        "id": "UXe8IchE-YVd"
      }
    },
    {
      "cell_type": "code",
      "source": [
        "df['User_ID'].value_counts()"
      ],
      "metadata": {
        "id": "faNMpZOs9kC8"
      },
      "execution_count": null,
      "outputs": []
    },
    {
      "cell_type": "code",
      "source": [],
      "metadata": {
        "id": "gBluJlivMg0M"
      },
      "execution_count": null,
      "outputs": []
    },
    {
      "cell_type": "code",
      "source": [
        "df['Product_ID'].value_counts()"
      ],
      "metadata": {
        "id": "Opj7xAHSA_y3"
      },
      "execution_count": null,
      "outputs": []
    },
    {
      "cell_type": "code",
      "source": [
        "# 몇 %의 고객이 전체매매건수 전체 매매금액을 차지하고 있는가"
      ],
      "metadata": {
        "id": "Z9huC_MdP8nD"
      },
      "execution_count": null,
      "outputs": []
    },
    {
      "cell_type": "code",
      "source": [
        "df.sort_values(by='Product_ID', ascending = False)"
      ],
      "metadata": {
        "id": "fvYwbSMmSVIT"
      },
      "execution_count": null,
      "outputs": []
    },
    {
      "cell_type": "code",
      "source": [
        "sns.countplot(x = 'Age', data = df, hue='Gender')"
      ],
      "metadata": {
        "id": "fDbCLatvSto7"
      },
      "execution_count": null,
      "outputs": []
    },
    {
      "cell_type": "code",
      "source": [
        "df['Gender'].value_counts()"
      ],
      "metadata": {
        "id": "cqiiEnPnBNB1"
      },
      "execution_count": null,
      "outputs": []
    },
    {
      "cell_type": "code",
      "source": [
        "import seaborn as sns\n",
        "sns.countplot(df['Gender'])"
      ],
      "metadata": {
        "id": "qdHJ1ntfPSwy"
      },
      "execution_count": null,
      "outputs": []
    },
    {
      "cell_type": "code",
      "source": [],
      "metadata": {
        "id": "okFsEyygBTFV"
      },
      "execution_count": null,
      "outputs": []
    },
    {
      "cell_type": "code",
      "source": [
        "df['Age'].value_counts()"
      ],
      "metadata": {
        "id": "BTyT3EVQBWl2"
      },
      "execution_count": null,
      "outputs": []
    },
    {
      "cell_type": "code",
      "source": [
        "import seaborn as sns\n",
        "sns.countplot(df['Age'])"
      ],
      "metadata": {
        "id": "p2i29RLBObdC"
      },
      "execution_count": null,
      "outputs": []
    },
    {
      "cell_type": "code",
      "source": [
        "df['Occupation'].value_counts()"
      ],
      "metadata": {
        "id": "L_bFZUP_BkG-"
      },
      "execution_count": null,
      "outputs": []
    },
    {
      "cell_type": "code",
      "source": [
        "import seaborn as sns\n",
        "sns.histplot(df['Occupation'])"
      ],
      "metadata": {
        "id": "xHPuKWZSNmLB"
      },
      "execution_count": null,
      "outputs": []
    },
    {
      "cell_type": "code",
      "source": [
        "df['City_Category'].value_counts()"
      ],
      "metadata": {
        "id": "1LXbvL8bGmLf"
      },
      "execution_count": null,
      "outputs": []
    },
    {
      "cell_type": "code",
      "source": [
        "import seaborn as sns\n",
        "sns.histplot(df['City_Category'])"
      ],
      "metadata": {
        "id": "1e6A1yOWNIpp"
      },
      "execution_count": null,
      "outputs": []
    },
    {
      "cell_type": "code",
      "source": [],
      "metadata": {
        "id": "i9WQ7k4ENOSy"
      },
      "execution_count": null,
      "outputs": []
    },
    {
      "cell_type": "code",
      "source": [
        "# 전체 데이터에서 칼럼별 유니크 값 개수 보기\n",
        "df.nunique(axis=0, dropna=True)"
      ],
      "metadata": {
        "id": "A07J54xBHXbn"
      },
      "execution_count": null,
      "outputs": []
    },
    {
      "cell_type": "code",
      "source": [
        "import seaborn as sns\n",
        "sns.histplot(df['Purchase'])\n"
      ],
      "metadata": {
        "id": "4jVAn84XM3bx"
      },
      "execution_count": null,
      "outputs": []
    },
    {
      "cell_type": "code",
      "source": [
        "df.describe(include='all')"
      ],
      "metadata": {
        "id": "enU_6J2vIGnn"
      },
      "execution_count": null,
      "outputs": []
    },
    {
      "cell_type": "code",
      "source": [
        "df.groupby('Product_ID').size().sort_values(ascending=False)[:10]"
      ],
      "metadata": {
        "id": "bdNfQSQOXJ0-"
      },
      "execution_count": null,
      "outputs": []
    },
    {
      "cell_type": "code",
      "source": [],
      "metadata": {
        "id": "k9pnwTjrY-SU"
      },
      "execution_count": null,
      "outputs": []
    }
  ]
}